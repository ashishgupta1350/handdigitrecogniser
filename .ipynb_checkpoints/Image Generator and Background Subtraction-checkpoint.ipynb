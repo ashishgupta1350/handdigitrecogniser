{
 "cells": [
  {
   "cell_type": "markdown",
   "metadata": {},
   "source": [
    "## Lets see the way to go about it!\n",
    "\n",
    "\n",
    "1) Generate training images using camera and saving them, get like 50 images of various tilts and angles and various magnifications all of size 72 by 72 ( So that we can scale down on demand ) \n",
    "\n",
    "2) Apply filters and generate 5 images per image to generate 250 images per class. \n",
    "\n",
    "3) Generate a csv file for the images stored as numbers \n",
    "\n",
    "4) Generate csv file for labels.\n"
   ]
  },
  {
   "cell_type": "code",
   "execution_count": 77,
   "metadata": {
    "collapsed": true
   },
   "outputs": [],
   "source": [
    "import cv2\n",
    "import numpy as np\n",
    "cap = cv2.VideoCapture(0)\n",
    "if ~cap.isOpened():\n",
    "    exit(1)\n",
    "\n",
    "cv2.destroyAllWindows()\n",
    "cap.release()"
   ]
  },
  {
   "cell_type": "code",
   "execution_count": 49,
   "metadata": {
    "collapsed": true
   },
   "outputs": [],
   "source": [
    "cap = cv2.VideoCapture(0)\n",
    "if ~cap.isOpened():\n",
    "    exit(1)\n",
    "cv2.namedWindow(\"Hand Capture\")\n",
    "frameCount = int(0)\n",
    "while True:\n",
    "    _,frame = cap.read()\n",
    "    frameCount+=1\n",
    "    if(frameCount%100 == 0 ):\n",
    "        print(\"100 frames!\")\n",
    "    cv2.imshow(\"Hand Capture\",frame)\n",
    "    # Do the frame operations\n",
    "    k = cv2.waitKey(1) & 0xFF\n",
    "    if k == ord('q') or k==27:\n",
    "        break\n",
    "\n",
    "cv2.destroyAllWindows()\n",
    "cap.release()"
   ]
  },
  {
   "cell_type": "code",
   "execution_count": 83,
   "metadata": {},
   "outputs": [
    {
     "name": "stdout",
     "output_type": "stream",
     "text": [
      "True\n"
     ]
    }
   ],
   "source": [
    "# Background Subraction\n",
    "import cv2\n",
    "import numpy as np\n",
    "\n",
    "\n",
    "# reframing\n",
    "cv2.namedWindow(\"First Frame\", cv2.WINDOW_NORMAL)\n",
    "cv2.resizeWindow('First Frame', 1000,600)\n",
    "cv2.namedWindow(\"Frame\", cv2.WINDOW_NORMAL)\n",
    "cv2.resizeWindow('Frame', 1000,600)\n",
    "\n",
    "cap = cv2.VideoCapture(\"media/highway.mp4\")\n",
    "print(cap.isOpened())\n",
    "_,firstFrame = cap.read()\n",
    "firstGray = cv2.cvtColor(firstFrame,cv2.COLOR_BGR2GRAY)\n",
    "firstGray = cv2.GaussianBlur(firstGray,(5,5), 0)\n",
    "\n",
    "while(True):\n",
    "    stillReading,frame = cap.read()\n",
    "    if not stillReading:\n",
    "        break\n",
    "        \n",
    "        \n",
    "    cv2.imshow(\"First Frame\",firstFrame)\n",
    "    grayFrame = cv2.cvtColor(frame,cv2.COLOR_BGR2GRAY)\n",
    "    grayFrame = cv2.GaussianBlur(grayFrame,(5,5), 0)\n",
    "    cv2.imshow(\"Frame\",frame)\n",
    "    \n",
    "    diff = cv2.absdiff(firstGray,grayFrame)\n",
    "    _,diff = cv2.threshold(diff, 50, 255, cv2.THRESH_BINARY)\n",
    "    cv2.dilate(diff, (5,5),0)\n",
    "\n",
    "#     cv2.dilate()\n",
    "    \n",
    "    cv2.imshow('difference',diff)\n",
    "    key = cv2.waitKey(30) & 0xFF\n",
    "    if key == ord('q') or key == ord('Q'):\n",
    "        break\n",
    "        \n",
    "cap.release()\n",
    "cv2.destroyAllWindows()"
   ]
  },
  {
   "cell_type": "code",
   "execution_count": 89,
   "metadata": {},
   "outputs": [],
   "source": [
    "# Background Subraction\n",
    "import cv2\n",
    "import numpy as np\n",
    "\n",
    "subtractor = cv2.createBackgroundSubtractorMOG2(history = 20, varThreshold = 25, detectShadows = False)\n",
    "# reframing\n",
    "cv2.namedWindow(\"First Frame\", cv2.WINDOW_NORMAL)\n",
    "cv2.resizeWindow('First Frame', 1000,600)\n",
    "cv2.namedWindow(\"Frame\", cv2.WINDOW_NORMAL)\n",
    "cv2.resizeWindow('Frame', 1000,600)\n",
    "\n",
    "cap = cv2.VideoCapture(\"media/cameraRoll.mp4\")\n",
    "\n",
    "while(True):\n",
    "    stillReading,frame = cap.read()\n",
    "    if not stillReading:\n",
    "        break\n",
    "\n",
    "    mask = subtractor.apply(frame)\n",
    "    cv2.imshow(\"Frame\",frame)\n",
    "    cv2.imshow(\"Mask\",mask)\n",
    "    \n",
    "    \n",
    "    \n",
    "    key = cv2.waitKey(30) & 0xFF\n",
    "    if key == ord('q') or key == ord('Q'):\n",
    "        break\n",
    "        \n",
    "cap.release()\n",
    "cv2.destroyAllWindows()"
   ]
  },
  {
   "cell_type": "code",
   "execution_count": null,
   "metadata": {
    "collapsed": true
   },
   "outputs": [],
   "source": []
  }
 ],
 "metadata": {
  "kernelspec": {
   "display_name": "Python 3",
   "language": "python",
   "name": "python3"
  },
  "language_info": {
   "codemirror_mode": {
    "name": "ipython",
    "version": 3
   },
   "file_extension": ".py",
   "mimetype": "text/x-python",
   "name": "python",
   "nbconvert_exporter": "python",
   "pygments_lexer": "ipython3",
   "version": "3.6.3"
  }
 },
 "nbformat": 4,
 "nbformat_minor": 2
}
