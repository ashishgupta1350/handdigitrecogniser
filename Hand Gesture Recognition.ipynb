{
 "cells": [
  {
   "cell_type": "markdown",
   "metadata": {},
   "source": [
    "## Building and training the model on csv files created"
   ]
  },
  {
   "cell_type": "code",
   "execution_count": 9,
   "metadata": {},
   "outputs": [],
   "source": [
    "\n",
    "from keras.models import Sequential\n",
    "from keras.layers import Dense\n",
    "from sklearn.model_selection import train_test_split as tts\n",
    "from sklearn.preprocessing import OneHotEncoder as OHE\n",
    "import pandas as pd"
   ]
  },
  {
   "cell_type": "code",
   "execution_count": 10,
   "metadata": {},
   "outputs": [
    {
     "name": "stdout",
     "output_type": "stream",
     "text": [
      "(393, 2000) (132, 2000)\n"
     ]
    }
   ],
   "source": [
    "myImageData = np.genfromtxt('imagesCSV.csv', delimiter=',')\n",
    "myImageLabels = np.genfromtxt('imagesLabels.csv',delimiter=',')\n",
    "xtrain,xtest,ytrain,ytest = tts(myImageData,myImageLabels)\n",
    "print(xtrain.shape,xtest.shape)"
   ]
  },
  {
   "cell_type": "code",
   "execution_count": 11,
   "metadata": {},
   "outputs": [],
   "source": [
    "ytrain = pd.get_dummies(pd.DataFrame(ytrain)[0])\n",
    "ytest = pd.get_dummies(pd.DataFrame(ytest)[0])"
   ]
  },
  {
   "cell_type": "code",
   "execution_count": 12,
   "metadata": {
    "collapsed": true
   },
   "outputs": [],
   "source": [
    "ytrain=ytrain.values\n",
    "ytest=ytest.values"
   ]
  },
  {
   "cell_type": "code",
   "execution_count": 13,
   "metadata": {
    "collapsed": true
   },
   "outputs": [],
   "source": [
    "#create model\n",
    "model = Sequential()\n",
    "n_cols = xtrain.shape[1]\n",
    "\n",
    "#add model layers\n",
    "model.add(Dense(100, activation='relu', input_dim = 2000))\n",
    "model.add(Dense(100, activation='relu'))\n",
    "model.add(Dense(5, activation= 'sigmoid'))"
   ]
  },
  {
   "cell_type": "code",
   "execution_count": 14,
   "metadata": {
    "collapsed": true
   },
   "outputs": [],
   "source": [
    "model.compile(optimizer = 'adam', loss = 'binary_crossentropy',metrics=['accuracy'])"
   ]
  },
  {
   "cell_type": "code",
   "execution_count": 15,
   "metadata": {},
   "outputs": [
    {
     "name": "stdout",
     "output_type": "stream",
     "text": [
      "Train on 393 samples, validate on 132 samples\n",
      "Epoch 1/50\n",
      "393/393 [==============================] - 1s 1ms/step - loss: 0.5219 - acc: 0.7878 - val_loss: 0.4903 - val_acc: 0.8000\n",
      "Epoch 2/50\n",
      "393/393 [==============================] - 0s 307us/step - loss: 0.4986 - acc: 0.8041 - val_loss: 0.4769 - val_acc: 0.8000\n",
      "Epoch 3/50\n",
      "393/393 [==============================] - 0s 421us/step - loss: 0.4641 - acc: 0.8025 - val_loss: 0.4515 - val_acc: 0.8000\n",
      "Epoch 4/50\n",
      "393/393 [==============================] - 0s 475us/step - loss: 0.4313 - acc: 0.8025 - val_loss: 0.4233 - val_acc: 0.8000\n",
      "Epoch 5/50\n",
      "393/393 [==============================] - 0s 477us/step - loss: 0.4048 - acc: 0.8204 - val_loss: 0.4030 - val_acc: 0.8167\n",
      "Epoch 6/50\n",
      "393/393 [==============================] - 0s 492us/step - loss: 0.3722 - acc: 0.8372 - val_loss: 0.3457 - val_acc: 0.8288\n",
      "Epoch 7/50\n",
      "393/393 [==============================] - 0s 398us/step - loss: 0.3383 - acc: 0.8534 - val_loss: 0.3086 - val_acc: 0.8682\n",
      "Epoch 8/50\n",
      "393/393 [==============================] - 0s 419us/step - loss: 0.2823 - acc: 0.8784 - val_loss: 0.2750 - val_acc: 0.8803\n",
      "Epoch 9/50\n",
      "393/393 [==============================] - 0s 401us/step - loss: 0.2581 - acc: 0.8824 - val_loss: 0.2564 - val_acc: 0.8909\n",
      "Epoch 10/50\n",
      "393/393 [==============================] - 0s 371us/step - loss: 0.2455 - acc: 0.8992 - val_loss: 0.2431 - val_acc: 0.8742\n",
      "Epoch 11/50\n",
      "393/393 [==============================] - 0s 299us/step - loss: 0.2183 - acc: 0.9084 - val_loss: 0.2213 - val_acc: 0.9197\n",
      "Epoch 12/50\n",
      "393/393 [==============================] - 0s 340us/step - loss: 0.1810 - acc: 0.9354 - val_loss: 0.2084 - val_acc: 0.9197\n",
      "Epoch 13/50\n",
      "393/393 [==============================] - 0s 355us/step - loss: 0.1710 - acc: 0.9374 - val_loss: 0.1904 - val_acc: 0.9106\n",
      "Epoch 14/50\n",
      "393/393 [==============================] - 0s 289us/step - loss: 0.1714 - acc: 0.9359 - val_loss: 0.1947 - val_acc: 0.9106\n",
      "Epoch 15/50\n",
      "393/393 [==============================] - 0s 299us/step - loss: 0.1448 - acc: 0.9583 - val_loss: 0.1612 - val_acc: 0.9424\n",
      "Epoch 16/50\n",
      "393/393 [==============================] - 0s 305us/step - loss: 0.1224 - acc: 0.9659 - val_loss: 0.1549 - val_acc: 0.9318\n",
      "Epoch 17/50\n",
      "393/393 [==============================] - 0s 287us/step - loss: 0.1217 - acc: 0.9628 - val_loss: 0.1503 - val_acc: 0.9288\n",
      "Epoch 18/50\n",
      "393/393 [==============================] - 0s 292us/step - loss: 0.1017 - acc: 0.9715 - val_loss: 0.1268 - val_acc: 0.9606\n",
      "Epoch 19/50\n",
      "393/393 [==============================] - 0s 284us/step - loss: 0.0870 - acc: 0.9802 - val_loss: 0.1087 - val_acc: 0.9712\n",
      "Epoch 20/50\n",
      "393/393 [==============================] - 0s 393us/step - loss: 0.0831 - acc: 0.9802 - val_loss: 0.1042 - val_acc: 0.9652\n",
      "Epoch 21/50\n",
      "393/393 [==============================] - 0s 502us/step - loss: 0.0815 - acc: 0.9776 - val_loss: 0.1077 - val_acc: 0.9667\n",
      "Epoch 22/50\n",
      "393/393 [==============================] - 0s 449us/step - loss: 0.0677 - acc: 0.9863 - val_loss: 0.1052 - val_acc: 0.9576\n",
      "Epoch 23/50\n",
      "393/393 [==============================] - 0s 299us/step - loss: 0.0711 - acc: 0.9807 - val_loss: 0.0922 - val_acc: 0.9636\n",
      "Epoch 24/50\n",
      "393/393 [==============================] - 0s 292us/step - loss: 0.0600 - acc: 0.9863 - val_loss: 0.0832 - val_acc: 0.9788\n",
      "Epoch 25/50\n",
      "393/393 [==============================] - 0s 332us/step - loss: 0.0615 - acc: 0.9858 - val_loss: 0.0713 - val_acc: 0.9758\n",
      "Epoch 26/50\n",
      "393/393 [==============================] - 0s 289us/step - loss: 0.0476 - acc: 0.9903 - val_loss: 0.0909 - val_acc: 0.9545\n",
      "Epoch 27/50\n",
      "393/393 [==============================] - 0s 302us/step - loss: 0.0491 - acc: 0.9913 - val_loss: 0.0677 - val_acc: 0.9773\n",
      "Epoch 28/50\n",
      "393/393 [==============================] - 0s 327us/step - loss: 0.0379 - acc: 0.9944 - val_loss: 0.0692 - val_acc: 0.9727\n",
      "Epoch 29/50\n",
      "393/393 [==============================] - 0s 396us/step - loss: 0.0407 - acc: 0.9924 - val_loss: 0.0684 - val_acc: 0.9712\n",
      "Epoch 30/50\n",
      "393/393 [==============================] - 0s 480us/step - loss: 0.0346 - acc: 0.9934 - val_loss: 0.0569 - val_acc: 0.9788\n",
      "Epoch 31/50\n",
      "393/393 [==============================] - 0s 406us/step - loss: 0.0337 - acc: 0.9944 - val_loss: 0.0831 - val_acc: 0.9697\n",
      "Epoch 32/50\n",
      "393/393 [==============================] - 0s 332us/step - loss: 0.0353 - acc: 0.9939 - val_loss: 0.0525 - val_acc: 0.9833\n",
      "Epoch 33/50\n",
      "393/393 [==============================] - 0s 322us/step - loss: 0.0277 - acc: 0.9959 - val_loss: 0.0596 - val_acc: 0.9803\n",
      "Epoch 34/50\n",
      "393/393 [==============================] - 0s 310us/step - loss: 0.0275 - acc: 0.9954 - val_loss: 0.0508 - val_acc: 0.9864\n",
      "Epoch 35/50\n",
      "393/393 [==============================] - 0s 332us/step - loss: 0.0240 - acc: 0.9959 - val_loss: 0.0508 - val_acc: 0.9848\n",
      "Epoch 36/50\n",
      "393/393 [==============================] - 0s 434us/step - loss: 0.0239 - acc: 0.9964 - val_loss: 0.0506 - val_acc: 0.9833\n",
      "Epoch 37/50\n",
      "393/393 [==============================] - 0s 391us/step - loss: 0.0210 - acc: 0.9969 - val_loss: 0.0445 - val_acc: 0.9848\n",
      "Epoch 38/50\n",
      "393/393 [==============================] - 0s 350us/step - loss: 0.0205 - acc: 0.9975 - val_loss: 0.0367 - val_acc: 0.9939\n",
      "Epoch 39/50\n",
      "393/393 [==============================] - 0s 376us/step - loss: 0.0312 - acc: 0.9908 - val_loss: 0.0434 - val_acc: 0.9864\n",
      "Epoch 40/50\n",
      "393/393 [==============================] - 0s 360us/step - loss: 0.0255 - acc: 0.9934 - val_loss: 0.0426 - val_acc: 0.9894\n",
      "Epoch 41/50\n",
      "393/393 [==============================] - 0s 345us/step - loss: 0.0196 - acc: 0.9954 - val_loss: 0.0467 - val_acc: 0.9848\n",
      "Epoch 42/50\n",
      "393/393 [==============================] - 0s 302us/step - loss: 0.0266 - acc: 0.9929 - val_loss: 0.0583 - val_acc: 0.9742\n",
      "Epoch 43/50\n",
      "393/393 [==============================] - 0s 305us/step - loss: 0.0262 - acc: 0.9913 - val_loss: 0.0710 - val_acc: 0.9697\n",
      "Epoch 44/50\n",
      "393/393 [==============================] - 0s 360us/step - loss: 0.0293 - acc: 0.9934 - val_loss: 0.1005 - val_acc: 0.9621\n",
      "Epoch 45/50\n",
      "393/393 [==============================] - 0s 373us/step - loss: 0.0210 - acc: 0.9954 - val_loss: 0.0345 - val_acc: 0.9879\n",
      "Epoch 46/50\n",
      "393/393 [==============================] - 0s 363us/step - loss: 0.0111 - acc: 0.9995 - val_loss: 0.0310 - val_acc: 0.9955\n",
      "Epoch 47/50\n",
      "393/393 [==============================] - 0s 322us/step - loss: 0.0126 - acc: 0.9990 - val_loss: 0.0337 - val_acc: 0.9879\n",
      "Epoch 48/50\n",
      "393/393 [==============================] - 0s 363us/step - loss: 0.0111 - acc: 0.9995 - val_loss: 0.0413 - val_acc: 0.9818\n",
      "Epoch 49/50\n",
      "393/393 [==============================] - 0s 353us/step - loss: 0.0146 - acc: 0.9980 - val_loss: 0.0326 - val_acc: 0.9909\n",
      "Epoch 50/50\n",
      "393/393 [==============================] - 0s 335us/step - loss: 0.0105 - acc: 0.9980 - val_loss: 0.0340 - val_acc: 0.9894\n"
     ]
    },
    {
     "data": {
      "text/plain": [
       "<keras.callbacks.History at 0x1e5f3964cf8>"
      ]
     },
     "execution_count": 15,
     "metadata": {},
     "output_type": "execute_result"
    }
   ],
   "source": [
    "model.fit(x=xtrain,y=ytrain,epochs=50,batch_size=20,validation_data=(xtest,ytest))"
   ]
  },
  {
   "cell_type": "code",
   "execution_count": 16,
   "metadata": {},
   "outputs": [
    {
     "name": "stdout",
     "output_type": "stream",
     "text": [
      "(2,)\n",
      "(2000,)\n",
      "(2000,)\n",
      "(2000,)\n",
      "(2000, 1)\n"
     ]
    },
    {
     "data": {
      "text/plain": [
       "array([1], dtype=int64)"
      ]
     },
     "execution_count": 16,
     "metadata": {},
     "output_type": "execute_result"
    }
   ],
   "source": [
    "# print(np.array([1,2]).shape)\n",
    "# print(xtest[0].T.shape)\n",
    "# temp = xtest[0].T\n",
    "# print(temp.shape)\n",
    "# print(temp.T.shape)\n",
    "# print(temp.reshape(2000,1).shape)\n",
    "# ans = model.predict(temp.reshape(2000,1).T)\n",
    "# np.argmax(ans, axis =1 ) + 1\n",
    "# # model.evaluate(xtest,ytest)"
   ]
  },
  {
   "cell_type": "code",
   "execution_count": 19,
   "metadata": {},
   "outputs": [
    {
     "name": "stdout",
     "output_type": "stream",
     "text": [
      "[5],[5],[5],[5],[5],[5],[5],[5],[5],[5],[5],[5],[5],[5],[5],[5],[5],[5],[5],[5],[5],[5],[5],[5],[1],[1],[1],[1],[1],[5],[5],[5],[5],[5],[5],[5],[5],[5],[5],[5],[5],[5],[5],[5],[5],[5],[5],[5],[5],[5],[5],[5],[5],[5],[5],[5],[5],[5],[5],[5],[5],[5],[5],[5],[5],[5],[5],[5],[5],[5],[5],[5],[5],[5],[5],[5],[5],[5],[5],[5],[5],[5],[5],[5],[5],[5],[5],[5],[5],[5],[5],[5],[5],[5],[5],[5],[5],[5],[5],[5],[5],[5],[5],[1],[1],[1],[1],[1],[5],[5],[5],[5],[4],[4],[4],[4],[4],[4],[4],[4],[4],[4],[4],[4],[4],[4],[4],[4],[4],[4],[4],[4],[4],[4],[4],[4],[4],[4],[4],[4],[4],[4],[4],[4],[4],[4],[4],[4],[4],[4],[4],[4],[1],[4],[4],[4],[4],[4],[4],[4],[4],[4],[4],[4],[4],[4],[4],[4],[4],[4],[4],[4],[4],[5],[5],[5],[5],[5],[5],[5],[5],[5],[5],[5],[5],[5],[5],[5],[5],[5],[5],[5],[5],[5],[5],[5],[5],[5],[5],[5],[5],[5],[5],[5],[5],[5],[5],[1],[5],[5],[1],[5],[5],[5],[5],[5],[5],[5],[5],[5],[5],[5],[5],[5],[5],[5],[5],[5],[5],[5],[5],[5],[5],[5],[5],[5],[5],[5],[4],[5],[5],[5],[5],[5],[5],[5],[5],[5],[5],[5],[5],[5],[5],[5],[5],[5],[5],[5],[4],[4],[5],[4],[4],[4],[4],[5],[4],[4],[4],[1],[1],[1],[5],[5],[5],[5],[5],[5],[5],[5],[5],[5],[5],[5],[5],[5],[5],[5],[5],[5],[5],[5],[5],[5],[5],[4],[4],[5],[5],[5],[4],[4],[4],[4],[4],[4],[4],[4],[4],[4],[4],[4],[5],[5],[5],[5],[5],[5],[5],[5],[5],[5],[5],[5],[5],[5],[5],[5],[5],[5],[5],[5],[4],[5],[5],[1],[5],[1],[1],[1],[4],[4],[4],[4],[4],[4],[4],[4],[4],[4],[4],[4],[4],[4],[4],[4],[4],[4],[4],[4],[4],[4],[4],[4],[4],[5],[5],[5],[5],[4],[4],[4],[4],[4],[4],[4],[4],[4],[5],[5],[5],[1],[5],[5],[1],[1],[4],[4],[4],[4],[4],[4],[4],[4],[4],[4],[4],[1],[5],[5],[5],[5],[4],[4],[4],[4],[4],[4],[4],[4],[5],[5],[5],[5],[5],[5],[5],[5],[5],[5],[5],[5],[5],[5],[5],[5],[5],[5],[5],[5],[5],[5],[5],[5],[5],[5],[5],[5],[5],[5],[5],[5],[5],[5],[5],[5],[5],[5],[5],[5],[5],[5],[5],[5],[5],[5],[5],[4],[4],[4],[4],[4],[4],[1],[1],[4],[4],[4],[4],[1],[1],[1],[1],[1],[1],[5],[5],[5],[1],[5],[1],[1],[1],[1],[1],[1],[1],[1],[1],[5],[1],[1],[1],[1],[1],[1],[1],[1],[1],[1],[1],[1],[1],[1],[1],[1],[1],[1],[1],[1],[5],[5],[1],[1],[1],[4],[5],[5],[5],[5],[5],[5],[5],[5],[5],[5],[5],[5],[5],[5],[5],[5],[5],[5],[5],[5],[5],[5],[5],[5],[5],[5],[5],[5],[5],[5],[5],[5],[5],[5],[5],[5],[5],[5],[5],[5],[5],[5],[5],[5],[5],[5],[5],[5],[5],[5],[5],[5],[5],[5],[5],[5],[5],[5],[5],[5],[5],[5],[5],[5],[5],[5],[5],[5],[5],[5],[5],[5],[5],[5],[4],[4],[4],[4],[4],[4],[4],[4],[1],[1],[1],[4],[4],[4],[4],[4],[4],[4],[4],[4],[4],[4],[1],[1],[1],[1],[1],[1],[5],[5],[5],[5],[5],[5],[5],[5],[5],[5],[5],[5],[5],[5],[5],[5],[5],[5],[5],[5],[4],[4],[4],[4],[4],[4],[4],[4],[4],[4],[4],[5],[4],[4],[1],[5],[5],[5],[5],[5],[5],[5],[5],[5],[5],[5],[5],[5],[5],[5],[5],[5],[5],[5],[5],[5],[5],[5],[5],[5],[5],[5],[5],[1],[5],[5],[1],[5],[5],[5],[5],[5],[5],[5],[1],[1],[1],[1],[5],[1],[1],[1],"
     ]
    }
   ],
   "source": [
    "import cv2\n",
    "import numpy as np\n",
    "\n",
    "\n",
    "cap = cv2.VideoCapture(0)\n",
    "# frameCount = 0\n",
    "# imgCount = 0\n",
    "# imgString = 'image'\n",
    "while(True):\n",
    "    reading,image = cap.read()\n",
    "    if not reading:\n",
    "        break\n",
    " \n",
    "    image=cv2.resize(image, (50,40), interpolation = 1)\n",
    "    image=cv2.cvtColor(image,cv2.COLOR_BGR2GRAY)\n",
    "    \n",
    "    toBePredicted = image.ravel()\n",
    "    ans = model.predict(toBePredicted.reshape(2000,1).T)\n",
    "    output = np.argmax(ans, axis =1 ) + 1\n",
    "    print(output,end=',')\n",
    "    \n",
    "    cv2.imshow(\"Frame\",image)  \n",
    "    key = cv2.waitKey(1) & 0xFF\n",
    "    if key == ord('q') or key == ord('Q'):\n",
    "        break\n",
    "        \n",
    "cap.release()\n",
    "cv2.destroyAllWindows()"
   ]
  }
 ],
 "metadata": {
  "kernelspec": {
   "display_name": "Python 3",
   "language": "python",
   "name": "python3"
  },
  "language_info": {
   "codemirror_mode": {
    "name": "ipython",
    "version": 3
   },
   "file_extension": ".py",
   "mimetype": "text/x-python",
   "name": "python",
   "nbconvert_exporter": "python",
   "pygments_lexer": "ipython3",
   "version": "3.6.3"
  }
 },
 "nbformat": 4,
 "nbformat_minor": 2
}
