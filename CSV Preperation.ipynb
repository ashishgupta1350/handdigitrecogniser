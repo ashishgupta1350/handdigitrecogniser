{
 "cells": [
  {
   "cell_type": "markdown",
   "metadata": {},
   "source": [
    "## Data Preperation using images"
   ]
  },
  {
   "cell_type": "code",
   "execution_count": 2,
   "metadata": {
    "collapsed": true
   },
   "outputs": [],
   "source": [
    "import cv2\n",
    "import numpy as np\n",
    "import pandas as pd"
   ]
  },
  {
   "cell_type": "code",
   "execution_count": 5,
   "metadata": {},
   "outputs": [],
   "source": [
    "import glob   \n",
    "path = 'media/classifier/*.jpg'   \n",
    "files=glob.glob(path)   \n",
    "fileString = []\n",
    "for file in files:     \n",
    "    fileString.append(file)"
   ]
  },
  {
   "cell_type": "code",
   "execution_count": 36,
   "metadata": {},
   "outputs": [
    {
     "data": {
      "text/plain": [
       "525"
      ]
     },
     "execution_count": 36,
     "metadata": {},
     "output_type": "execute_result"
    }
   ],
   "source": [
    "\n",
    "def stringSort(strings):\n",
    "    return len(strings)\n",
    "fileString.sort(key= stringSort)\n",
    "images = []\n",
    "for x in fileString:\n",
    "    img = cv2.imread(x,0)\n",
    "    #     print(img.ravel()/ 255.0)\n",
    "#     print(img.shape)\n",
    "    images.append(img.ravel()/255.0)\n",
    "len(images)"
   ]
  },
  {
   "cell_type": "code",
   "execution_count": 37,
   "metadata": {},
   "outputs": [],
   "source": [
    "df = pd.DataFrame(data = images)"
   ]
  },
  {
   "cell_type": "code",
   "execution_count": null,
   "metadata": {
    "collapsed": true
   },
   "outputs": [],
   "source": [
    "df.describe()\n",
    "\n",
    "# Remember to remove the top part and the indexes\n",
    "\n",
    "df.to_csv('imagesCSV.csv', sep=',', encoding='utf-8')"
   ]
  },
  {
   "cell_type": "code",
   "execution_count": 44,
   "metadata": {},
   "outputs": [
    {
     "name": "stdout",
     "output_type": "stream",
     "text": [
      "525 [1, 1, 1, 1, 1, 1, 1, 1, 1, 1, 1, 1, 1, 1, 1, 1, 1, 1, 1, 1, 1, 1, 1, 1, 1, 1, 1, 1, 1, 1, 1, 1, 1, 1, 1, 1, 1, 1, 1, 1, 1, 1, 1, 1, 1, 1, 1, 1, 1, 1, 1, 1, 1, 1, 1, 1, 1, 1, 1, 1, 1, 1, 1, 1, 1, 1, 1, 1, 1, 1, 1, 1, 1, 1, 1, 1, 1, 1, 1, 1, 1, 1, 1, 1, 1, 1, 1, 1, 1, 1, 1, 1, 1, 1, 1, 2, 2, 2, 2, 2, 2, 2, 2, 2, 2, 2, 2, 2, 2, 2, 2, 2, 2, 2, 2, 2, 2, 2, 2, 2, 2, 2, 2, 2, 2, 2, 2, 2, 2, 2, 2, 2, 2, 2, 2, 2, 2, 2, 2, 2, 2, 2, 2, 2, 2, 2, 2, 2, 2, 2, 2, 2, 2, 2, 2, 2, 2, 2, 2, 2, 2, 2, 2, 2, 2, 2, 2, 2, 2, 2, 2, 2, 2, 2, 2, 2, 2, 2, 2, 2, 2, 2, 2, 2, 2, 2, 3, 3, 3, 3, 3, 3, 3, 3, 3, 3, 3, 3, 3, 3, 3, 3, 3, 3, 3, 3, 3, 3, 3, 3, 3, 3, 3, 3, 3, 3, 3, 3, 3, 3, 3, 3, 3, 3, 3, 3, 3, 3, 3, 3, 3, 3, 3, 3, 3, 3, 3, 3, 3, 3, 3, 3, 3, 3, 3, 3, 3, 3, 3, 3, 3, 3, 3, 3, 3, 3, 3, 3, 3, 3, 3, 3, 3, 3, 3, 3, 3, 3, 3, 3, 3, 3, 3, 3, 3, 3, 3, 3, 3, 3, 3, 3, 3, 3, 3, 3, 3, 3, 3, 4, 4, 4, 4, 4, 4, 4, 4, 4, 4, 4, 4, 4, 4, 4, 4, 4, 4, 4, 4, 4, 4, 4, 4, 4, 4, 4, 4, 4, 4, 4, 4, 4, 4, 4, 4, 4, 4, 4, 4, 4, 4, 4, 4, 4, 4, 4, 4, 4, 4, 4, 4, 4, 4, 4, 4, 4, 4, 4, 4, 4, 4, 4, 4, 4, 4, 4, 4, 4, 4, 4, 4, 4, 4, 4, 4, 4, 4, 4, 4, 4, 4, 4, 4, 4, 4, 4, 4, 4, 4, 4, 4, 4, 4, 4, 4, 4, 4, 4, 4, 5, 5, 5, 5, 5, 5, 5, 5, 5, 5, 5, 5, 5, 5, 5, 5, 5, 5, 5, 5, 5, 5, 5, 5, 5, 5, 5, 5, 5, 5, 5, 5, 5, 5, 5, 5, 5, 5, 5, 5, 5, 5, 5, 5, 5, 5, 5, 5, 5, 5, 5, 5, 5, 5, 5, 5, 5, 5, 5, 5, 5, 5, 5, 5, 5, 5, 5, 5, 5, 5, 5, 5, 5, 5, 5, 5, 5, 5, 5, 5, 5, 5, 5, 5, 5, 5, 5, 5, 5, 5, 5, 5, 5, 5, 5, 5, 5, 5, 5, 5, 5, 5, 5, 5, 5, 5, 5, 5, 5, 5, 5, 5, 5, 5, 5, 5, 5, 5, 5, 5, 5, 5, 5, 5, 5, 5, 5, 5, 5, 5, 5, 5, 5, 5, 5, 5]\n"
     ]
    }
   ],
   "source": [
    "labels = []\n",
    "for i in range(95):\n",
    "    labels.append(int(1))\n",
    "for i in range(95, 186):\n",
    "    labels.append(int(2))\n",
    "for i in range(186,289):\n",
    "    labels.append(int(3))\n",
    "for i in range(289,389):\n",
    "    labels.append(int(4))\n",
    "for i in range(389, 525):\n",
    "    labels.append(int(5))\n",
    "print(len(labels),labels)\n",
    "\n",
    "# Remember to remove the top part and the indexes from csv files\n",
    "\n",
    "labelsdf = pd.DataFrame(data= labels)\n",
    "labelsdf.to_csv('imagesLabels.csv',sep = ',', encoding= 'utf-8')\n"
   ]
  },
  {
   "cell_type": "markdown",
   "metadata": {},
   "source": [
    "## Building and training the model on csv files created"
   ]
  },
  {
   "cell_type": "code",
   "execution_count": 92,
   "metadata": {},
   "outputs": [],
   "source": [
    "from keras.models import Sequential\n",
    "from keras.layers import Dense\n",
    "from sklearn.model_selection import train_test_split as tts\n",
    "from sklearn.preprocessing import OneHotEncoder as OHE"
   ]
  },
  {
   "cell_type": "code",
   "execution_count": 93,
   "metadata": {},
   "outputs": [
    {
     "name": "stdout",
     "output_type": "stream",
     "text": [
      "(393, 2000) (132, 2000)\n"
     ]
    }
   ],
   "source": [
    "myImageData = np.genfromtxt('imagesCSV.csv', delimiter=',')\n",
    "myImageLabels = np.genfromtxt('imagesLabels.csv',delimiter=',')\n",
    "xtrain,xtest,ytrain,ytest = tts(myImageData,myImageLabels)\n",
    "print(xtrain.shape,xtest.shape)"
   ]
  },
  {
   "cell_type": "code",
   "execution_count": null,
   "metadata": {},
   "outputs": [],
   "source": []
  },
  {
   "cell_type": "code",
   "execution_count": 94,
   "metadata": {},
   "outputs": [],
   "source": [
    "ytrain = pd.get_dummies(pd.DataFrame(ytrain)[0])\n",
    "ytest = pd.get_dummies(pd.DataFrame(ytest)[0])"
   ]
  },
  {
   "cell_type": "code",
   "execution_count": 95,
   "metadata": {},
   "outputs": [],
   "source": [
    "ytrain=ytrain.values\n",
    "ytest=ytest.values"
   ]
  },
  {
   "cell_type": "code",
   "execution_count": 96,
   "metadata": {
    "collapsed": true
   },
   "outputs": [],
   "source": [
    "#create model\n",
    "model = Sequential()\n",
    "n_cols = xtrain.shape[1]\n",
    "\n",
    "#add model layers\n",
    "model.add(Dense(100, activation='relu', input_dim = 2000))\n",
    "model.add(Dense(100, activation='relu'))\n",
    "model.add(Dense(5, activation= 'sigmoid'))"
   ]
  },
  {
   "cell_type": "code",
   "execution_count": 97,
   "metadata": {
    "collapsed": true
   },
   "outputs": [],
   "source": [
    "model.compile(optimizer = 'adam', loss = 'binary_crossentropy',metrics=['accuracy'])\n"
   ]
  },
  {
   "cell_type": "code",
   "execution_count": 98,
   "metadata": {},
   "outputs": [
    {
     "name": "stdout",
     "output_type": "stream",
     "text": [
      "Train on 393 samples, validate on 132 samples\n",
      "Epoch 1/50\n",
      "393/393 [==============================] - 1s 1ms/step - loss: 0.5299 - acc: 0.7852 - val_loss: 0.4890 - val_acc: 0.8000\n",
      "Epoch 2/50\n",
      "393/393 [==============================] - 0s 396us/step - loss: 0.4868 - acc: 0.8000 - val_loss: 0.4823 - val_acc: 0.8000\n",
      "Epoch 3/50\n",
      "393/393 [==============================] - 0s 383us/step - loss: 0.4675 - acc: 0.8000 - val_loss: 0.4687 - val_acc: 0.8000\n",
      "Epoch 4/50\n",
      "393/393 [==============================] - 0s 424us/step - loss: 0.4476 - acc: 0.8000 - val_loss: 0.4366 - val_acc: 0.8000\n",
      "Epoch 5/50\n",
      "393/393 [==============================] - 0s 495us/step - loss: 0.4182 - acc: 0.8285 - val_loss: 0.4192 - val_acc: 0.8455\n",
      "Epoch 6/50\n",
      "393/393 [==============================] - 0s 469us/step - loss: 0.3794 - acc: 0.8453 - val_loss: 0.3618 - val_acc: 0.8424\n",
      "Epoch 7/50\n",
      "393/393 [==============================] - 0s 411us/step - loss: 0.3303 - acc: 0.8519 - val_loss: 0.3198 - val_acc: 0.8515\n",
      "Epoch 8/50\n",
      "393/393 [==============================] - 0s 365us/step - loss: 0.2999 - acc: 0.8646 - val_loss: 0.3063 - val_acc: 0.8864\n",
      "Epoch 9/50\n",
      "393/393 [==============================] - 0s 368us/step - loss: 0.2647 - acc: 0.8814 - val_loss: 0.2568 - val_acc: 0.8818\n",
      "Epoch 10/50\n",
      "393/393 [==============================] - 0s 368us/step - loss: 0.2411 - acc: 0.8947 - val_loss: 0.2310 - val_acc: 0.8909\n",
      "Epoch 11/50\n",
      "393/393 [==============================] - 0s 386us/step - loss: 0.2179 - acc: 0.9109 - val_loss: 0.2313 - val_acc: 0.9076\n",
      "Epoch 12/50\n",
      "393/393 [==============================] - 0s 358us/step - loss: 0.2076 - acc: 0.9099 - val_loss: 0.1955 - val_acc: 0.9212\n",
      "Epoch 13/50\n",
      "393/393 [==============================] - 0s 383us/step - loss: 0.1757 - acc: 0.9344 - val_loss: 0.1960 - val_acc: 0.9273\n",
      "Epoch 14/50\n",
      "393/393 [==============================] - 0s 513us/step - loss: 0.1616 - acc: 0.9445 - val_loss: 0.1966 - val_acc: 0.9076\n",
      "Epoch 15/50\n",
      "393/393 [==============================] - 0s 452us/step - loss: 0.1483 - acc: 0.9491 - val_loss: 0.1554 - val_acc: 0.9455\n",
      "Epoch 16/50\n",
      "393/393 [==============================] - 0s 520us/step - loss: 0.1344 - acc: 0.9547 - val_loss: 0.1525 - val_acc: 0.9318\n",
      "Epoch 17/50\n",
      "393/393 [==============================] - 0s 505us/step - loss: 0.1270 - acc: 0.9603 - val_loss: 0.1334 - val_acc: 0.9545\n",
      "Epoch 18/50\n",
      "393/393 [==============================] - 0s 591us/step - loss: 0.1224 - acc: 0.9608 - val_loss: 0.1345 - val_acc: 0.9545\n",
      "Epoch 19/50\n",
      "393/393 [==============================] - 0s 556us/step - loss: 0.1167 - acc: 0.9608 - val_loss: 0.1158 - val_acc: 0.9621\n",
      "Epoch 20/50\n",
      "393/393 [==============================] - 0s 558us/step - loss: 0.0990 - acc: 0.9746 - val_loss: 0.1097 - val_acc: 0.9712\n",
      "Epoch 21/50\n",
      "393/393 [==============================] - 0s 584us/step - loss: 0.0913 - acc: 0.9705 - val_loss: 0.1048 - val_acc: 0.9621\n",
      "Epoch 22/50\n",
      "393/393 [==============================] - 0s 406us/step - loss: 0.0765 - acc: 0.9852 - val_loss: 0.0956 - val_acc: 0.9758\n",
      "Epoch 23/50\n",
      "393/393 [==============================] - 0s 404us/step - loss: 0.0756 - acc: 0.9822 - val_loss: 0.0934 - val_acc: 0.9727\n",
      "Epoch 24/50\n",
      "393/393 [==============================] - 0s 414us/step - loss: 0.0890 - acc: 0.9684 - val_loss: 0.1315 - val_acc: 0.9394\n",
      "Epoch 25/50\n",
      "393/393 [==============================] - 0s 421us/step - loss: 0.0770 - acc: 0.9766 - val_loss: 0.0880 - val_acc: 0.9773\n",
      "Epoch 26/50\n",
      "393/393 [==============================] - 0s 518us/step - loss: 0.0579 - acc: 0.9908 - val_loss: 0.0930 - val_acc: 0.9652\n",
      "Epoch 27/50\n",
      "393/393 [==============================] - 0s 482us/step - loss: 0.0530 - acc: 0.9903 - val_loss: 0.0693 - val_acc: 0.9788\n",
      "Epoch 28/50\n",
      "393/393 [==============================] - 0s 409us/step - loss: 0.0456 - acc: 0.9913 - val_loss: 0.0713 - val_acc: 0.9788\n",
      "Epoch 29/50\n",
      "393/393 [==============================] - 0s 538us/step - loss: 0.0436 - acc: 0.9903 - val_loss: 0.0727 - val_acc: 0.9788\n",
      "Epoch 30/50\n",
      "393/393 [==============================] - 0s 495us/step - loss: 0.0411 - acc: 0.9924 - val_loss: 0.0609 - val_acc: 0.9788\n",
      "Epoch 31/50\n",
      "393/393 [==============================] - 0s 421us/step - loss: 0.0382 - acc: 0.9919 - val_loss: 0.0731 - val_acc: 0.9742\n",
      "Epoch 32/50\n",
      "393/393 [==============================] - 0s 381us/step - loss: 0.0548 - acc: 0.9827 - val_loss: 0.0851 - val_acc: 0.9591\n",
      "Epoch 33/50\n",
      "393/393 [==============================] - 0s 363us/step - loss: 0.0497 - acc: 0.9893 - val_loss: 0.1076 - val_acc: 0.9606\n",
      "Epoch 34/50\n",
      "393/393 [==============================] - 0s 393us/step - loss: 0.0422 - acc: 0.9898 - val_loss: 0.0652 - val_acc: 0.9742\n",
      "Epoch 35/50\n",
      "393/393 [==============================] - 0s 388us/step - loss: 0.0348 - acc: 0.9929 - val_loss: 0.0653 - val_acc: 0.9758\n",
      "Epoch 36/50\n",
      "393/393 [==============================] - 0s 360us/step - loss: 0.0293 - acc: 0.9954 - val_loss: 0.0486 - val_acc: 0.9848\n",
      "Epoch 37/50\n",
      "393/393 [==============================] - 0s 467us/step - loss: 0.0268 - acc: 0.9934 - val_loss: 0.0653 - val_acc: 0.9727\n",
      "Epoch 38/50\n",
      "393/393 [==============================] - 0s 594us/step - loss: 0.0317 - acc: 0.9924 - val_loss: 0.0511 - val_acc: 0.9818\n",
      "Epoch 39/50\n",
      "393/393 [==============================] - 0s 525us/step - loss: 0.0243 - acc: 0.9975 - val_loss: 0.0568 - val_acc: 0.9848\n",
      "Epoch 40/50\n",
      "393/393 [==============================] - 0s 515us/step - loss: 0.0216 - acc: 0.9964 - val_loss: 0.0417 - val_acc: 0.9879\n",
      "Epoch 41/50\n",
      "393/393 [==============================] - 0s 477us/step - loss: 0.0220 - acc: 0.9964 - val_loss: 0.0403 - val_acc: 0.9879\n",
      "Epoch 42/50\n",
      "393/393 [==============================] - 0s 429us/step - loss: 0.0219 - acc: 0.9949 - val_loss: 0.0703 - val_acc: 0.9652\n",
      "Epoch 43/50\n",
      "393/393 [==============================] - 0s 416us/step - loss: 0.0347 - acc: 0.9898 - val_loss: 0.0732 - val_acc: 0.9727\n",
      "Epoch 44/50\n",
      "393/393 [==============================] - 0s 373us/step - loss: 0.0202 - acc: 0.9959 - val_loss: 0.0439 - val_acc: 0.9864\n",
      "Epoch 45/50\n",
      "393/393 [==============================] - 0s 388us/step - loss: 0.0144 - acc: 0.9975 - val_loss: 0.0348 - val_acc: 0.9848\n",
      "Epoch 46/50\n",
      "393/393 [==============================] - 0s 373us/step - loss: 0.0126 - acc: 0.9990 - val_loss: 0.0369 - val_acc: 0.9879\n",
      "Epoch 47/50\n",
      "393/393 [==============================] - 0s 383us/step - loss: 0.0124 - acc: 0.9985 - val_loss: 0.0419 - val_acc: 0.9864\n",
      "Epoch 48/50\n",
      "393/393 [==============================] - 0s 457us/step - loss: 0.0136 - acc: 0.9980 - val_loss: 0.0369 - val_acc: 0.9879\n",
      "Epoch 49/50\n",
      "393/393 [==============================] - 0s 421us/step - loss: 0.0115 - acc: 0.9995 - val_loss: 0.0331 - val_acc: 0.9879\n",
      "Epoch 50/50\n",
      "393/393 [==============================] - 0s 409us/step - loss: 0.0105 - acc: 0.9995 - val_loss: 0.0339 - val_acc: 0.9879\n"
     ]
    },
    {
     "data": {
      "text/plain": [
       "<keras.callbacks.History at 0x1f48cede710>"
      ]
     },
     "execution_count": 98,
     "metadata": {},
     "output_type": "execute_result"
    }
   ],
   "source": [
    "model.fit(x=xtrain,y=ytrain,epochs=50,batch_size=20,validation_data=(xtest,ytest))"
   ]
  },
  {
   "cell_type": "code",
   "execution_count": 140,
   "metadata": {},
   "outputs": [
    {
     "name": "stdout",
     "output_type": "stream",
     "text": [
      "(2,)\n",
      "(2000,)\n",
      "(2000,)\n",
      "(2000,)\n",
      "(2000, 1)\n"
     ]
    },
    {
     "data": {
      "text/plain": [
       "array([5], dtype=int64)"
      ]
     },
     "execution_count": 140,
     "metadata": {},
     "output_type": "execute_result"
    }
   ],
   "source": [
    "print(np.array([1,2]).shape)\n",
    "print(xtest[0].T.shape)\n",
    "temp = xtest[0].T\n",
    "print(temp.shape)\n",
    "print(temp.T.shape)\n",
    "print(temp.reshape(2000,1).shape)\n",
    "ans = model.predict(temp.reshape(2000,1).T)\n",
    "np.argmax(ans, axis =1 ) + 1\n",
    "# model.evaluate(xtest,ytest)"
   ]
  }
 ],
 "metadata": {
  "kernelspec": {
   "display_name": "Python 3",
   "language": "python",
   "name": "python3"
  },
  "language_info": {
   "codemirror_mode": {
    "name": "ipython",
    "version": 3
   },
   "file_extension": ".py",
   "mimetype": "text/x-python",
   "name": "python",
   "nbconvert_exporter": "python",
   "pygments_lexer": "ipython3",
   "version": "3.6.3"
  }
 },
 "nbformat": 4,
 "nbformat_minor": 2
}
